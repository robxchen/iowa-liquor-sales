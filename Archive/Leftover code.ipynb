{
 "cells": [
  {
   "cell_type": "code",
   "execution_count": null,
   "metadata": {},
   "outputs": [],
   "source": [
    "# vendor_list = tr['Vendor Number'].value_counts()[tr['Vendor Number'].value_counts() >=100].index\n",
    "# tr = tr.loc[tr['Vendor Number'].isin(vendor_list)]"
   ]
  },
  {
   "cell_type": "code",
   "execution_count": null,
   "metadata": {},
   "outputs": [],
   "source": [
    "# item_df = products['Item Number'].value_counts().to_frame(name='Counts')\n",
    "# item_df.reset_index(inplace=True)\n",
    "# item_df = item_df.rename(columns={'index':'Item Number'})\n",
    "# item_df\n",
    "\n",
    "# item_df['Item Description (edited)'] = item_df['Item Number'].map(lambda x: products['Item Description'][products['Item Number'] == x].mode().iloc[0])\n",
    "\n",
    "# products['Item Description'][products['Item Number'] == '11788'].mode().iloc[0]\n",
    "\n",
    "# products['Item Description (edited)'] = products['Item Number'].map(lambda x: products['Item Description'][products['Item Number'] == x].mode().iloc[0])"
   ]
  },
  {
   "cell_type": "code",
   "execution_count": null,
   "metadata": {},
   "outputs": [],
   "source": [
    "# cat_df = products['Category'].value_counts().to_frame(name='Counts')\n",
    "# cat_df.reset_index(inplace=True)\n",
    "# cat_df = cat_df.rename(columns={'index':'Category'})\n",
    "# cat_df"
   ]
  },
  {
   "cell_type": "code",
   "execution_count": null,
   "metadata": {},
   "outputs": [],
   "source": [
    "# cat_df['Category Name (edited)'] = cat_df['Category'].map(lambda x: products['Category Name'][products['Category'] == x].mode().iloc[0])\n",
    "# cat_df"
   ]
  },
  {
   "cell_type": "code",
   "execution_count": null,
   "metadata": {},
   "outputs": [],
   "source": [
    "# vendors['Vendor Name (edited)'] = vendors['Vendor Number'].map(lambda x: vendors['Vendor Name'][vendors['Vendor Number'] == x].mode().iloc[0])"
   ]
  },
  {
   "cell_type": "code",
   "execution_count": null,
   "metadata": {},
   "outputs": [],
   "source": [
    "# stores['Store Name (edited)'] = stores['Store Number'].map(lambda x: stores['Store Name'][stores['Store Number'] == x].mode().iloc[0])\n",
    "# stores['Store Location (edited)'] = stores['Store Number'].map(lambda x: stores['Store Location'][stores['Store Number'] == x].mode().iloc[0])"
   ]
  }
 ],
 "metadata": {
  "kernelspec": {
   "display_name": "Python 3",
   "language": "python",
   "name": "python3"
  },
  "language_info": {
   "codemirror_mode": {
    "name": "ipython",
    "version": 3
   },
   "file_extension": ".py",
   "mimetype": "text/x-python",
   "name": "python",
   "nbconvert_exporter": "python",
   "pygments_lexer": "ipython3",
   "version": "3.9.0"
  }
 },
 "nbformat": 4,
 "nbformat_minor": 4
}
